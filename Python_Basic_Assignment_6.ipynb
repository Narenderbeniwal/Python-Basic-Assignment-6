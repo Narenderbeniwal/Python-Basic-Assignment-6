{
  "nbformat": 4,
  "nbformat_minor": 0,
  "metadata": {
    "colab": {
      "name": "Python Basic Assignment 6.ipynb",
      "provenance": []
    },
    "kernelspec": {
      "name": "python3",
      "display_name": "Python 3"
    },
    "language_info": {
      "name": "python"
    }
  },
  "cells": [
    {
      "cell_type": "markdown",
      "metadata": {
        "id": "L7VDiDuJ6SG-"
      },
      "source": [
        "Q. 1. What are escape characters, and how do you use them?\n",
        "\n",
        "Solution: In Python strings, the backslash \"\\\" is a special character, also called the \"escape\" character. It is used in representing certain whitespace characters: \"\\t\" is a tab, \"\\n\" is a newline, and \"\\r\" is a carriage return. Conversely, prefixing a special character with \"\\\" turns it into an ordinary character."
      ]
    },
    {
      "cell_type": "markdown",
      "metadata": {
        "id": "nNP8MK-w63Q1"
      },
      "source": [
        "Q 2. What do the escape characters n and t stand for?\n",
        "\n",
        "Sol: : \"\\t\" is a tab, \"\\n\" is a newline"
      ]
    },
    {
      "cell_type": "markdown",
      "metadata": {
        "id": "ZFeciyrX7I09"
      },
      "source": [
        "Q. 3. What is the way to include backslash characters in a string?\n",
        "\n",
        "Sol: Use two backslashes to represent a backslash\n",
        "\n",
        "Use the syntax \"\\\\**\\**\" within the string literal to represent a single backslash.\n",
        "\n"
      ]
    },
    {
      "cell_type": "markdown",
      "metadata": {
        "id": "weySS6-K8dA4"
      },
      "source": [
        "Q 4. The string \"Howl's Moving Castle\" is a correct value. Why isn't the single quote character in the word Howl's not escaped a problem?\n",
        "\n",
        "Sol: The single quote in Howl's is fine because you've used double quotes to mark the beginning and end of the string.\n",
        "\n"
      ]
    },
    {
      "cell_type": "markdown",
      "metadata": {
        "id": "oXsTnL8_9JMP"
      },
      "source": [
        "Q. 5. How do you write a string of newlines if you don't want to use the n character?\n",
        "\n",
        "\n",
        "Sol: Multiline strings allow you to use newlines in strings without the \\n escape character.\n",
        "\n"
      ]
    },
    {
      "cell_type": "code",
      "metadata": {
        "colab": {
          "base_uri": "https://localhost:8080/"
        },
        "id": "uymXJlO17D2I",
        "outputId": "76415e92-662c-47dc-b3f1-d7313bb63622"
      },
      "source": [
        "## 6. What are the values of the given expressions?\n",
        "###'Hello, world!'[1]\n",
        "#'Hello, world!'[0:5]\n",
        "#'Hello, world!'[:5]\n",
        "#'Hello, world!'[3:] \n",
        "# Sol: \n",
        "print('Hello, world!'[1])\n",
        "print('Hello, world!'[0:5])\n",
        "print('Hello, world!'[:5])\n",
        "print('Hello, world!'[3:])\n"
      ],
      "execution_count": null,
      "outputs": [
        {
          "output_type": "stream",
          "text": [
            "e\n",
            "Hello\n",
            "Hello\n",
            "lo, world!\n"
          ],
          "name": "stdout"
        }
      ]
    },
    {
      "cell_type": "code",
      "metadata": {
        "colab": {
          "base_uri": "https://localhost:8080/"
        },
        "id": "htDPhe3l-jkF",
        "outputId": "4d5690a6-0302-44eb-bb8f-e996f9c00cf7"
      },
      "source": [
        "\n",
        "#7. What are the values of the following expressions?\n",
        "#'Hello'.upper()\n",
        "#'Hello'.upper().isupper()\n",
        "# 'Hello'.upper().lower()\n",
        "# Sol: \n",
        "print('Hello'.upper())\n",
        "print('Hello'.upper().isupper())\n",
        "print('Hello'.upper().lower())"
      ],
      "execution_count": null,
      "outputs": [
        {
          "output_type": "stream",
          "text": [
            "HELLO\n",
            "True\n",
            "hello\n"
          ],
          "name": "stdout"
        }
      ]
    },
    {
      "cell_type": "code",
      "metadata": {
        "id": "AKhinYfg-0L8",
        "colab": {
          "base_uri": "https://localhost:8080/"
        },
        "outputId": "e7d6eb1b-ce83-4daf-890f-e8efeabbccea"
      },
      "source": [
        "# 8. What are the values of the following expressions?\n",
        "#'Remember, remember, the fifth of July.'.split()\n",
        "# '-'.join('There can only one.'.split())\n",
        "# Sol: \n",
        "print('Remember, remember, the fifth of July.'.split())\n",
        "print('-'.join('There can only one.'.split()))"
      ],
      "execution_count": 8,
      "outputs": [
        {
          "output_type": "stream",
          "text": [
            "['Remember,', 'remember,', 'the', 'fifth', 'of', 'July.']\n",
            "There-can-only-one.\n"
          ],
          "name": "stdout"
        }
      ]
    },
    {
      "cell_type": "code",
      "metadata": {
        "id": "pP9lo0ciAN0I"
      },
      "source": [
        "# Q. 9. What are the methods for right-justifying, left-justifying, and centering a string?\n",
        "# Sol: The rjust(), ljust() and center() strings methods.\n"
      ],
      "execution_count": 9,
      "outputs": []
    },
    {
      "cell_type": "code",
      "metadata": {
        "id": "uY2RKaKzDiPN"
      },
      "source": [
        ""
      ],
      "execution_count": null,
      "outputs": []
    },
    {
      "cell_type": "code",
      "metadata": {
        "id": "njiCBlVIDIZt"
      },
      "source": [
        "# Q. 10. What is the best way to remove whitespace characters from the start or end?\n",
        "## Sol: trim. trim function is ussed to remove strip whitespace (or other character) from beginning and end of the string. trim function remove the whitespace which is before and after the value."
      ],
      "execution_count": 10,
      "outputs": []
    },
    {
      "cell_type": "code",
      "metadata": {
        "id": "hK6gYKZ-DtMq"
      },
      "source": [
        "|"
      ],
      "execution_count": null,
      "outputs": []
    }
  ]
}